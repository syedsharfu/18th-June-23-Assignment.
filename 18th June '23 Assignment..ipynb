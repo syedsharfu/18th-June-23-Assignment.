{
 "cells": [
  {
   "cell_type": "raw",
   "id": "3f548d31-4711-4b21-9a33-65c5d0980d4a",
   "metadata": {},
   "source": [
    "1. What is the role of the 'else' block in a try-except statement? Provide an example scenario where it would be useful."
   ]
  },
  {
   "cell_type": "raw",
   "id": "5d1ab400-4c76-4921-ad99-e5d7552ea3d5",
   "metadata": {},
   "source": [
    "The else block in a try-except statement is executed only if the code inside the try block runs successfully without raising any exceptions. It provides a way to specify code that should be executed when no exceptions occur. The primary role of the else block is to separate the code that may raise exceptions from the code that should run only when no exceptions are encountered."
   ]
  },
  {
   "cell_type": "code",
   "execution_count": 3,
   "id": "1683f9c0-fcb7-4590-9188-0b35ee3b2a9b",
   "metadata": {},
   "outputs": [
    {
     "name": "stdin",
     "output_type": "stream",
     "text": [
      "Enter the numerator:  6\n",
      "Enter the denominator:  5\n"
     ]
    },
    {
     "name": "stdout",
     "output_type": "stream",
     "text": [
      "The result of the division is: 1.2\n"
     ]
    }
   ],
   "source": [
    "def divide_numbers(numerator, denominator):\n",
    "    try:\n",
    "        result = numerator / denominator\n",
    "    except ZeroDivisionError:\n",
    "        print(\"Error: Division by zero is not allowed.\")\n",
    "    except ValueError:\n",
    "        print(\"Error: Please enter valid numeric values.\")\n",
    "    else:\n",
    "        print(f\"The result of the division is: {result}\")\n",
    "\n",
    "# Example usage:\n",
    "num1 = float(input(\"Enter the numerator: \"))\n",
    "num2 = float(input(\"Enter the denominator: \"))\n",
    "\n",
    "divide_numbers(num1, num2)\n"
   ]
  },
  {
   "cell_type": "raw",
   "id": "4c87a6d5-cede-44ce-a5e5-81cd69d6f43a",
   "metadata": {},
   "source": [
    "2. Can a try-except block be nested inside another try-except block? Explain with an example"
   ]
  },
  {
   "cell_type": "raw",
   "id": "144c6861-11cf-47e3-8221-39ee66d87ba9",
   "metadata": {},
   "source": [
    "Yes, a try-except block can be nested inside another try-except block. This is known as nested exception handling, and it allows for more fine-grained control over handling specific exceptions at different levels of code. Each nested try-except block can handle its own set of exceptions."
   ]
  },
  {
   "cell_type": "code",
   "execution_count": 4,
   "id": "6978070b-374b-4dff-8eec-6c51e85bebb0",
   "metadata": {},
   "outputs": [
    {
     "name": "stdin",
     "output_type": "stream",
     "text": [
      "Enter the numerator:  4\n",
      "Enter the denominator:  9\n"
     ]
    },
    {
     "name": "stdout",
     "output_type": "stream",
     "text": [
      "The result of the division is: 0.4444444444444444\n"
     ]
    }
   ],
   "source": [
    "def example_function():\n",
    "    try:\n",
    "        numerator = int(input(\"Enter the numerator: \"))\n",
    "        denominator = int(input(\"Enter the denominator: \"))\n",
    "\n",
    "        try:\n",
    "            result = numerator / denominator\n",
    "            print(f\"The result of the division is: {result}\")\n",
    "        except ZeroDivisionError:\n",
    "            print(\"Error: Division by zero is not allowed in the nested block.\")\n",
    "        except ValueError:\n",
    "            print(\"Error: Please enter valid numeric values in the nested block.\")\n",
    "\n",
    "    except ValueError:\n",
    "        print(\"Error: Please enter valid numeric values in the outer block.\")\n",
    "    except Exception as e:\n",
    "        print(f\"An unexpected error occurred in the outer block: {e}\")\n",
    "example_function()\n"
   ]
  },
  {
   "cell_type": "raw",
   "id": "2f4113e6-990b-4df7-b7d8-7ec488fc6d4f",
   "metadata": {},
   "source": [
    "3.  How can you create a custom exception class in Python? Provide an example that demonstrates its usage."
   ]
  },
  {
   "cell_type": "code",
   "execution_count": 6,
   "id": "eb680aa1-1fda-49fc-93e2-19426c883e04",
   "metadata": {},
   "outputs": [
    {
     "name": "stdin",
     "output_type": "stream",
     "text": [
      "Enter a non-negative number:  2\n"
     ]
    }
   ],
   "source": [
    "#In Python, you can create a custom exception class by defining a new class that inherits from the built-in Exception class or one of its subclasses. This allows you to create specialized exceptions tailored to your application's needs. Here's an example:\n",
    "# Custom exception class\n",
    "class CustomError(Exception):\n",
    "    def __init__(self, message=\"A custom error occurred.\"):\n",
    "        self.message = message\n",
    "        super().__init__(self.message)\n",
    "\n",
    "# Function that raises the custom exception\n",
    "def example_function(value):\n",
    "    if value < 0:\n",
    "        raise CustomError(\"Negative values are not allowed.\")\n",
    "\n",
    "# Example usage\n",
    "try:\n",
    "    user_input = int(input(\"Enter a non-negative number: \"))\n",
    "    example_function(user_input)\n",
    "except CustomError as ce:\n",
    "    print(f\"CustomError: {ce}\")\n",
    "except ValueError:\n",
    "    print(\"Error: Please enter a valid non-negative integer.\")\n",
    "except Exception as e:\n",
    "    print(f\"An unexpected error occurred: {e}\")\n"
   ]
  },
  {
   "cell_type": "raw",
   "id": "0ee81006-082d-458b-a89c-d2862c6d668c",
   "metadata": {},
   "source": [
    "4. What are some common exceptions that are built-in to Python?"
   ]
  },
  {
   "cell_type": "raw",
   "id": "09b9ffe1-487a-4c3b-bed5-cc596babac30",
   "metadata": {},
   "source": [
    "Python has several built-in exceptions that are commonly encountered during the execution of programs. Here are some of the common built-in exceptions in Python:\n",
    "SyntaxError:Raised when there is a syntax error in the code.\n",
    "IndentationError:Raised when there is an incorrect indentation in the code.\n",
    "NameError:Raised when an identifier is not found in the local or global namespace.\n",
    "TypeError:Raised when an operation or function is applied to an object of an inappropriate type.\n",
    "ValueError:Raised when a function receives an argument of the correct type but with an invalid value.\n",
    "ZeroDivisionError:Raised when division or modulo by zero is encountered.\n",
    "IndexError:Raised when a sequence subscript is out of range.\n",
    "FileNotFoundError:Raised when a file or directory is requested, but cannot be found.\n",
    "KeyError:Raised when a dictionary key is not found.\n",
    "AttributeError:Raised when an attribute reference or assignment fails.\n",
    "OSError:A base class for I/O-related errors.\n",
    "RuntimeError:A generic error that does not fit into any specific category.\n",
    "ImportError:Raised when an import statement cannot find the module or name.\n",
    "ModuleNotFoundError:Raised when a module could not be found.\n",
    "MemoryError:Raised when an operation runs out of memory."
   ]
  },
  {
   "cell_type": "raw",
   "id": "600f08ea-a69f-4486-9279-c2a513d12c6e",
   "metadata": {},
   "source": [
    "5. What is logging in Python, and why is it important in software development?"
   ]
  },
  {
   "cell_type": "raw",
   "id": "7ad60c48-05f9-4826-96bc-e57e049e87d9",
   "metadata": {},
   "source": [
    "Logging in Python refers to the process of recording messages or events that occur during the execution of a program. The Python logging module provides a flexible and powerful logging system that allows developers to output messages to different destinations, control the verbosity of messages, and configure logging behavior.\n",
    "logging is an essential aspect of software development that facilitates debugging, monitoring, and maintenance of applications, contributing to better code quality and reliability."
   ]
  },
  {
   "cell_type": "raw",
   "id": "1eab7f5e-72c9-46e9-8678-73c164fdc00c",
   "metadata": {},
   "source": [
    "6. Explain the purpose of log levels in Python logging and provide examples of when each log level would be appropriate."
   ]
  },
  {
   "cell_type": "raw",
   "id": "e519277a-c1f1-4c0f-a41f-dcb875ce6d72",
   "metadata": {},
   "source": [
    "Log levels in Python logging provide a way to categorize and prioritize log messages based on their severity. The logging module defines several standard log levels, each serving a specific purpose. The common log levels, in increasing order of severity, are:\n",
    "\n",
    "DEBUG:\n",
    "Purpose: Detailed information, typically useful only for diagnosing problems.\n",
    "Example Usage: Outputting variable values, tracing the flow of execution during development and debugging.\n",
    "import logging\n",
    "\n",
    "logging.basicConfig(level=logging.DEBUG)\n",
    "logger = logging.getLogger('example')\n",
    "logger.debug('This is a debug message')\n",
    "\n",
    "NFO:\n",
    "Purpose: General information about the program's execution.\n",
    "Example Usage: Informative messages about the progress of the application or key events.\n",
    "import logging\n",
    "\n",
    "logging.basicConfig(level=logging.INFO)\n",
    "logger = logging.getLogger('example')\n",
    "logger.info('This is an info message')\n",
    "\n",
    "WARNING:\n",
    "Purpose: Indicates a potential issue that doesn't prevent the program from running but may require attention.\n",
    "Example Usage: Warnings about deprecated features, suboptimal configurations, or other non-critical issues.\n",
    "import logging\n",
    "\n",
    "logging.basicConfig(level=logging.WARNING)\n",
    "logger = logging.getLogger('example')\n",
    "logger.warning('This is a warning message')\n",
    "ERROR:\n",
    "\n",
    "Purpose: Indicates a more severe problem that prevented a specific operation from completing.\n",
    "Example Usage: Reporting errors that may impact the functionality of the application but don't necessarily lead to a crash.\n",
    "import logging\n",
    "logging.basicConfig(level=logging.ERROR)\n",
    "logger = logging.getLogger('example')\n",
    "logger.error('This is an error message')\n",
    "CRITICAL:\n",
    "Purpose: Indicates a critical error that may lead to the termination of the program.\n",
    "Example Usage: Reporting severe issues that require immediate attention, such as unhandled exceptions.\n",
    "import logging\n",
    "\n",
    "logging.basicConfig(level=logging.CRITICAL)\n",
    "logger = logging.getLogger('example')\n",
    "logger.critical('This is a critical message')"
   ]
  },
  {
   "cell_type": "raw",
   "id": "85026fe1-fbb7-4455-a1b4-caf341b6c0b6",
   "metadata": {},
   "source": [
    "7. What are log formatters in Python logging, and how can you customise the log message format using formatters?"
   ]
  },
  {
   "cell_type": "raw",
   "id": "6b26fa20-e325-4796-aaf9-7bb4dd940f83",
   "metadata": {},
   "source": [
    "Log formatters in Python logging are used to specify the layout and structure of log messages. They allow developers to customize the format in which log records are presented, including details like timestamps, log levels, and user-specific information. Formatters are associated with log handlers, and each handler can have its own formatter.\n",
    "The logging module provides a Formatter class that you can use to define custom log message formats. The Formatter class has a set of attributes that can be included in the log message format, and each attribute is represented by a placeholder that begins and ends with a percentage sign (%). Here are some common attributes:\n",
    "%asctime: Human-readable timestamp when the log record was created.\n",
    "%levelname: Text logging level for the log message.\n",
    "%message: The log message itself.\n",
    "%name: The logger name.\n",
    "%filename: The name of the file from which the log call was made.\n",
    "%lineno: The line number where the log call was made."
   ]
  },
  {
   "cell_type": "raw",
   "id": "d19008e4-a38e-40ee-8a1b-3b31af293060",
   "metadata": {},
   "source": [
    "8. How can you set up logging to capture log messages from multiple modules or classes in a Python application?"
   ]
  },
  {
   "cell_type": "raw",
   "id": "75f1eba1-5cce-43da-bcbe-d6fde66a2968",
   "metadata": {},
   "source": [
    "In Python, you can set up logging to capture log messages from multiple modules or classes by creating a logger for each module or class and configuring the loggers with the desired handlers and formatters. Each logger can be given a unique name based on the module or class hierarchy.\n",
    "Here's a step-by-step guide to set up logging for multiple modules or classes:\n",
    "Create Loggers for Each Module or Class:\n",
    "In each module or class where you want to log messages, create a logger using the logging.getLogger() method. You can use the __name__ attribute to automatically obtain a unique logger name based on the module or class name.\n",
    "Configure Handlers and Formatters:\n",
    "Create handlers and formatters as needed for your application. You can have a single configuration for the entire application or configure each module or class independently.\n",
    "Associate Handlers with Loggers:\n",
    "For each logger created in step 1, associate the desired handlers with the logger. This can be done in each module or class.\n",
    "Use Loggers in the Main Application:\n",
    "In the main application or entry point, configure the root logger or any additional handlers needed.\n",
    "Use Loggers in the Application:\n",
    "Log messages from the various modules or classes using the loggers created in step 1."
   ]
  },
  {
   "cell_type": "raw",
   "id": "a59847ed-d398-4673-8387-c55bf57bfe9f",
   "metadata": {},
   "source": [
    "9. What is the difference between the logging and print statements in Python? When should you use logging over print statements in a real-world application?"
   ]
  },
  {
   "cell_type": "raw",
   "id": "1352f3c6-7733-4580-9273-b694c593cf5a",
   "metadata": {},
   "source": [
    "Both logging and print statements in Python are used for displaying information, but they serve different purposes and are suitable for different scenarios.\n",
    "Differences between logging and print:\n",
    "Purpose:print: Primarily used for temporary or quick output during development and debugging.\n",
    "logging: Designed for logging messages, which includes recording information about the program's execution, debugging, warnings, errors, etc.\n",
    "Verbosity Control:print: Generally used for basic output and lacks built-in verbosity control.\n",
    "logging: Provides built-in log levels (DEBUG, INFO, WARNING, ERROR, CRITICAL) for controlling message verbosity. This allows you to adjust the level of detail in log output dynamically.\n",
    "Destination:print: Outputs messages to the console (standard output).\n",
    "logging: Can output messages to various destinations, including the console, files, external services, etc. This flexibility makes it suitable for logging in production environments.\n",
    "Formatting:print: Limited formatting options; primarily used for basic string concatenation.\n",
    "logging: Supports customizable formatting through formatters, allowing you to specify how log messages are presented, including timestamps, log levels, and additional contextual information.\n",
    "Global Configuration:print: Lacks a centralized configuration mechanism, making it challenging to adjust behavior globally.\n",
    "logging: Provides a centralized configuration system, allowing you to configure logging behavior globally or for specific modules or classes.\n",
    "Log Levels:print: Does not have built-in log levels; all messages are treated equally.\n",
    "logging: Offers different log levels to categorize messages by severity, facilitating better organization and filtering of log output.\n",
    "When to Use logging Over print in a Real-World Application:\n",
    "Production Environments:Use logging in production environments for comprehensive logging, error tracking, and monitoring. It allows you to capture valuable information without exposing it to end-users.\n",
    "Debugging and Development:Use print for quick and temporary debugging during development. It provides a simple way to inspect variable values and control flow.\n",
    "Error Handling:logging is better suited for error handling, as it allows you to categorize errors by severity and log detailed information about exceptions.\n",
    "Verbosity Control:logging is valuable when you need different levels of verbosity in your logs. You can easily switch between DEBUG, INFO, WARNING, and other log levels without modifying the code.\n",
    "Centralized Configuration:logging provides a centralized configuration system, making it easier to manage and adjust log settings globally.\n",
    "Integration with Libraries and Frameworks:Many libraries and frameworks use the logging module, making it seamless to integrate logging across different components of an application.\n",
    "Long-Term Maintenance:For long-term maintenance and scalability, using logging with proper log levels, handlers, and formatters provides a more robust solution.\n",
    "In summary, while print is convenient for quick debugging, logging is the preferred choice for comprehensive logging in real-world applications, especially in production environments, where capturing, categorizing, and managing log messages are critical for error diagnosis and system monitoring."
   ]
  },
  {
   "cell_type": "raw",
   "id": "effb699a-b7d6-4fcb-a661-fac8108405bb",
   "metadata": {},
   "source": [
    "10. Write a Python program that logs a message to a file named \"app.log\" with the\n",
    "following requirements:\n",
    "● The log message should be \"Hello, World!\"\n",
    "● The log level should be set to \"INFO.\"\n",
    "● The log file should append new log entries without overwriting previous ones"
   ]
  },
  {
   "cell_type": "raw",
   "id": "7ca4b88c-389c-41f6-9978-254195dfc969",
   "metadata": {},
   "source": [
    "To achieve the specified requirements, you can use the logging module in Python to set up logging with the desired log level, log message, and file handling configuration. Here's a simple Python program that logs an \"INFO\" level message to a file named \"app.log\":"
   ]
  },
  {
   "cell_type": "code",
   "execution_count": 7,
   "id": "6322170f-e18d-4be9-9980-1e521a8989c1",
   "metadata": {},
   "outputs": [],
   "source": [
    "import logging\n",
    "\n",
    "# Configure logging to a file named \"app.log\"\n",
    "logging.basicConfig(filename='app.log', level=logging.INFO, format='%(asctime)s - %(levelname)s - %(message)s')\n",
    "\n",
    "# Log the message\n",
    "logging.info('Hello, World!')\n"
   ]
  },
  {
   "cell_type": "raw",
   "id": "335cf963-f3a5-4c50-a9e1-c8c383a2cb34",
   "metadata": {},
   "source": [
    "11. Create a Python program that logs an error message to the console and a file named \"errors.log\" if an exception occurs during the program's execution. The error message should include the exception type and a timestamp"
   ]
  },
  {
   "cell_type": "code",
   "execution_count": 8,
   "id": "91c59b6f-b1ee-493f-a2e9-c381e625284d",
   "metadata": {},
   "outputs": [],
   "source": [
    "import logging\n",
    "import traceback\n",
    "from datetime import datetime\n",
    "logging.basicConfig(level=logging.ERROR,\n",
    "                    handlers=[\n",
    "                        logging.StreamHandler(),  # Console handler\n",
    "                        logging.FileHandler('errors.log')  # File handler\n",
    "                    ],\n",
    "                    format='%(asctime)s - %(levelname)s - %(message)s')\n",
    "\n",
    "def main():\n",
    "    try:\n",
    "        result = 1 / 0\n",
    "    except Exception as e:\n",
    "        # Log the exception details\n",
    "        logging.error(f'Exception occurred: {e.__class__.__name__} - {str(e)}')\n",
    "        logging.error(f'Timestamp: {datetime.now()}')\n",
    "        logging.error(f'Traceback:\\n{traceback.format_exc()}')\n",
    "\n",
    "if __name__ == \"__main__\":\n",
    "    main()\n"
   ]
  },
  {
   "cell_type": "code",
   "execution_count": null,
   "id": "73d6a9a4-98e6-4f53-aa06-dec8a918e949",
   "metadata": {},
   "outputs": [],
   "source": []
  }
 ],
 "metadata": {
  "kernelspec": {
   "display_name": "Python 3 (ipykernel)",
   "language": "python",
   "name": "python3"
  },
  "language_info": {
   "codemirror_mode": {
    "name": "ipython",
    "version": 3
   },
   "file_extension": ".py",
   "mimetype": "text/x-python",
   "name": "python",
   "nbconvert_exporter": "python",
   "pygments_lexer": "ipython3",
   "version": "3.10.6"
  }
 },
 "nbformat": 4,
 "nbformat_minor": 5
}
